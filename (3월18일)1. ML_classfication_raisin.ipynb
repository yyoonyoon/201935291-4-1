{
 "cells": [
  {
   "cell_type": "code",
   "execution_count": 1,
   "metadata": {},
   "outputs": [
    {
     "name": "stdout",
     "output_type": "stream",
     "text": [
      "Accuracy: 0.52\n"
     ]
    },
    {
     "data": {
      "image/png": "[encoded data removed]",
      "text/plain": [
       "<Figure size 640x480 with 2 Axes>"
      ]
     },
     "metadata": {},
     "output_type": "display_data"
    }
   ],
   "source": [
    "import pandas as pd\n",
    "import numpy as np\n",
    "import matplotlib.pyplot as plt\n",
    "from sklearn.model_selection import train_test_split\n",
    "from sklearn.preprocessing import StandardScaler, LabelEncoder\n",
    "from sklearn.neighbors import KNeighborsClassifier\n",
    "import seaborn as sns\n",
    "\n",
    "df = pd.read_csv(\"/Users/yeomsangyoon/Visual Studio/0_tensor/source/Raisin_Dataset.csv\", index_col=0)\n",
    "\n",
    "# Generate a sample Raisin dataset (replace this with your actual dataset)\n",
    "np.random.seed(0)\n",
    "num_samples = 1000\n",
    "\n",
    "# Features: sweetness, size, color, surface texture\n",
    "sweetness = np.random.uniform(0, 10, num_samples)\n",
    "size = np.random.uniform(0, 20, num_samples)\n",
    "color = np.random.choice(['red', 'green', 'blue'], num_samples)\n",
    "surface_texture = np.random.choice(['smooth', 'wrinkled'], num_samples)\n",
    "\n",
    "# Target: isRaisin (binary classification)\n",
    "is_raisin = np.random.choice([0, 1], num_samples)\n",
    "\n",
    "# Create DataFrame\n",
    "df = pd.DataFrame({\n",
    "    'sweetness': sweetness,\n",
    "    'size': size,\n",
    "    'color': color,\n",
    "    'surface_texture': surface_texture,\n",
    "    'is_raisin': is_raisin\n",
    "})\n",
    "\n",
    "# Convert categorical columns to numeric using LabelEncoder\n",
    "le_color = LabelEncoder()\n",
    "le_surface_texture = LabelEncoder()\n",
    "df['color'] = le_color.fit_transform(df['color'])\n",
    "df['surface_texture'] = le_surface_texture.fit_transform(df['surface_texture'])\n",
    "\n",
    "# Splitting the dataset into the Training set and Test set\n",
    "X = df.drop('is_raisin', axis=1)\n",
    "y = df['is_raisin']\n",
    "X_train, X_test, y_train, y_test = train_test_split(X, y, test_size=0.2, random_state=42)\n",
    "\n",
    "# Feature scaling\n",
    "scaler = StandardScaler()\n",
    "X_train = scaler.fit_transform(X_train)\n",
    "X_test = scaler.transform(X_test)\n",
    "\n",
    "# Initialize K-NN classifier\n",
    "knn = KNeighborsClassifier(n_neighbors=5)\n",
    "\n",
    "# Fitting the classifier to the Training set\n",
    "knn.fit(X_train, y_train)\n",
    "\n",
    "# Predicting the Test set results\n",
    "y_pred = knn.predict(X_test)\n",
    "\n",
    "# Evaluating the classifier\n",
    "accuracy = knn.score(X_test, y_test)\n",
    "print(\"Accuracy:\", accuracy)\n",
    "\n",
    "# Confusion Matrix\n",
    "confusion_matrix = pd.crosstab(y_test, y_pred, rownames=['Actual'], colnames=['Predicted'])\n",
    "sns.heatmap(confusion_matrix, annot=True)\n",
    "plt.show()"
   ]
  },
  {
   "cell_type": "code",
   "execution_count": null,
   "metadata": {},
   "outputs": [],
   "source": []
  }
 ],
 "metadata": {
  "kernelspec": {
   "display_name": "Python 3 (ipykernel)",
   "language": "python",
   "name": "python3"
  },
  "language_info": {
   "codemirror_mode": {
    "name": "ipython",
    "version": 3
   },
   "file_extension": ".py",
   "mimetype": "text/x-python",
   "name": "python",
   "nbconvert_exporter": "python",
   "pygments_lexer": "ipython3",
   "version": "3.9.6"
  }
 },
 "nbformat": 4,
 "nbformat_minor": 4
}
