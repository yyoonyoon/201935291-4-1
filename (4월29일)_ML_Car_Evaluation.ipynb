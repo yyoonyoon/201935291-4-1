{
 "cells": [
  {
   "cell_type": "code",
   "execution_count": 1,
   "id": "f2ee49b2-a6c4-4cef-a3a2-a3ad69195c61",
   "metadata": {},
   "outputs": [],
   "source": [
    "import pandas as pd\n",
    "import numpy as np\n",
    "import matplotlib.pyplot as plt\n",
    "from sklearn.model_selection import train_test_split\n",
    "from sklearn.preprocessing import StandardScaler, LabelEncoder\n",
    "from sklearn.neighbors import KNeighborsClassifier\n",
    "import seaborn as sns"
   ]
  },
  {
   "cell_type": "code",
   "execution_count": 2,
   "id": "d15aaab3-3bea-460f-af13-a5325aa4cd9c",
   "metadata": {},
   "outputs": [
    {
     "data": {
      "text/html": [
       "<div>\n",
       "<style scoped>\n",
       "    .dataframe tbody tr th:only-of-type {\n",
       "        vertical-align: middle;\n",
       "    }\n",
       "\n",
       "    .dataframe tbody tr th {\n",
       "        vertical-align: top;\n",
       "    }\n",
       "\n",
       "    .dataframe thead th {\n",
       "        text-align: right;\n",
       "    }\n",
       "</style>\n",
       "<table border=\"1\" class=\"dataframe\">\n",
       "  <thead>\n",
       "    <tr style=\"text-align: right;\">\n",
       "      <th></th>\n",
       "      <th>buying</th>\n",
       "      <th>maint</th>\n",
       "      <th>doors</th>\n",
       "      <th>persons</th>\n",
       "      <th>lug_boot</th>\n",
       "      <th>safety</th>\n",
       "      <th>class</th>\n",
       "    </tr>\n",
       "  </thead>\n",
       "  <tbody>\n",
       "    <tr>\n",
       "      <th>0</th>\n",
       "      <td>vhigh</td>\n",
       "      <td>vhigh</td>\n",
       "      <td>2</td>\n",
       "      <td>2</td>\n",
       "      <td>small</td>\n",
       "      <td>low</td>\n",
       "      <td>unacc</td>\n",
       "    </tr>\n",
       "    <tr>\n",
       "      <th>1</th>\n",
       "      <td>vhigh</td>\n",
       "      <td>vhigh</td>\n",
       "      <td>2</td>\n",
       "      <td>2</td>\n",
       "      <td>small</td>\n",
       "      <td>med</td>\n",
       "      <td>unacc</td>\n",
       "    </tr>\n",
       "    <tr>\n",
       "      <th>2</th>\n",
       "      <td>vhigh</td>\n",
       "      <td>vhigh</td>\n",
       "      <td>2</td>\n",
       "      <td>2</td>\n",
       "      <td>small</td>\n",
       "      <td>high</td>\n",
       "      <td>unacc</td>\n",
       "    </tr>\n",
       "    <tr>\n",
       "      <th>3</th>\n",
       "      <td>vhigh</td>\n",
       "      <td>vhigh</td>\n",
       "      <td>2</td>\n",
       "      <td>2</td>\n",
       "      <td>med</td>\n",
       "      <td>low</td>\n",
       "      <td>unacc</td>\n",
       "    </tr>\n",
       "    <tr>\n",
       "      <th>4</th>\n",
       "      <td>vhigh</td>\n",
       "      <td>vhigh</td>\n",
       "      <td>2</td>\n",
       "      <td>2</td>\n",
       "      <td>med</td>\n",
       "      <td>med</td>\n",
       "      <td>unacc</td>\n",
       "    </tr>\n",
       "    <tr>\n",
       "      <th>...</th>\n",
       "      <td>...</td>\n",
       "      <td>...</td>\n",
       "      <td>...</td>\n",
       "      <td>...</td>\n",
       "      <td>...</td>\n",
       "      <td>...</td>\n",
       "      <td>...</td>\n",
       "    </tr>\n",
       "    <tr>\n",
       "      <th>1723</th>\n",
       "      <td>low</td>\n",
       "      <td>low</td>\n",
       "      <td>5more</td>\n",
       "      <td>more</td>\n",
       "      <td>med</td>\n",
       "      <td>med</td>\n",
       "      <td>good</td>\n",
       "    </tr>\n",
       "    <tr>\n",
       "      <th>1724</th>\n",
       "      <td>low</td>\n",
       "      <td>low</td>\n",
       "      <td>5more</td>\n",
       "      <td>more</td>\n",
       "      <td>med</td>\n",
       "      <td>high</td>\n",
       "      <td>vgood</td>\n",
       "    </tr>\n",
       "    <tr>\n",
       "      <th>1725</th>\n",
       "      <td>low</td>\n",
       "      <td>low</td>\n",
       "      <td>5more</td>\n",
       "      <td>more</td>\n",
       "      <td>big</td>\n",
       "      <td>low</td>\n",
       "      <td>unacc</td>\n",
       "    </tr>\n",
       "    <tr>\n",
       "      <th>1726</th>\n",
       "      <td>low</td>\n",
       "      <td>low</td>\n",
       "      <td>5more</td>\n",
       "      <td>more</td>\n",
       "      <td>big</td>\n",
       "      <td>med</td>\n",
       "      <td>good</td>\n",
       "    </tr>\n",
       "    <tr>\n",
       "      <th>1727</th>\n",
       "      <td>low</td>\n",
       "      <td>low</td>\n",
       "      <td>5more</td>\n",
       "      <td>more</td>\n",
       "      <td>big</td>\n",
       "      <td>high</td>\n",
       "      <td>vgood</td>\n",
       "    </tr>\n",
       "  </tbody>\n",
       "</table>\n",
       "<p>1728 rows × 7 columns</p>\n",
       "</div>"
      ],
      "text/plain": [
       "     buying  maint  doors persons lug_boot safety  class\n",
       "0     vhigh  vhigh      2       2    small    low  unacc\n",
       "1     vhigh  vhigh      2       2    small    med  unacc\n",
       "2     vhigh  vhigh      2       2    small   high  unacc\n",
       "3     vhigh  vhigh      2       2      med    low  unacc\n",
       "4     vhigh  vhigh      2       2      med    med  unacc\n",
       "...     ...    ...    ...     ...      ...    ...    ...\n",
       "1723    low    low  5more    more      med    med   good\n",
       "1724    low    low  5more    more      med   high  vgood\n",
       "1725    low    low  5more    more      big    low  unacc\n",
       "1726    low    low  5more    more      big    med   good\n",
       "1727    low    low  5more    more      big   high  vgood\n",
       "\n",
       "[1728 rows x 7 columns]"
      ]
     },
     "execution_count": 2,
     "metadata": {},
     "output_type": "execute_result"
    }
   ],
   "source": [
    "import numpy as np\n",
    "import pandas as pd\n",
    "import seaborn as sns\n",
    "from sklearn.model_selection import train_test_split\n",
    "import tensorflow as tf\n",
    "from tensorflow import keras\n",
    "\n",
    "col_names = ['buying', 'maint', 'doors', 'persons', 'lug_boot', 'safety', 'class']\n",
    "df = pd.read_csv(\"/Users/yeomsangyoon/Visual Studio/0_tensor/source/car_evaluation.csv\", header=None, names= col_names)\n",
    "df"
   ]
  },
  {
   "cell_type": "code",
   "execution_count": 3,
   "id": "31c59420-694d-496f-8938-a91013bb3d82",
   "metadata": {},
   "outputs": [
    {
     "data": {
      "text/plain": [
       "Index(['buying', 'maint', 'doors', 'persons', 'lug_boot', 'safety', 'class'], dtype='object')"
      ]
     },
     "execution_count": 3,
     "metadata": {},
     "output_type": "execute_result"
    }
   ],
   "source": [
    "df.columns"
   ]
  },
  {
   "cell_type": "code",
   "execution_count": 4,
   "id": "72d7cf9a-9cbd-49db-a213-be082f5202ef",
   "metadata": {},
   "outputs": [
    {
     "name": "stdout",
     "output_type": "stream",
     "text": [
      "Buying label count:\n",
      "buying\n",
      "vhigh    432\n",
      "high     432\n",
      "med      432\n",
      "low      432\n",
      "Name: count, dtype: int64 \n",
      "\n"
     ]
    },
    {
     "data": {
      "image/png": "[encoded data removed]",
      "text/plain": [
       "<Figure size 400x300 with 1 Axes>"
      ]
     },
     "metadata": {},
     "output_type": "display_data"
    },
    {
     "name": "stdout",
     "output_type": "stream",
     "text": [
      "Buying Subject Count: 4\n",
      "\n"
     ]
    }
   ],
   "source": [
    "import matplotlib.pyplot as plt\n",
    "import seaborn as sns\n",
    "#-----------------------------------------------------\n",
    "# buying 레이블 개수 확인 (숫자)\n",
    "print(\"Buying label count:\")\n",
    "print(df['buying'].value_counts(), \"\\n\")\n",
    "# buying 레이블 개수 확인 (그래프)\n",
    "plt.figure(figsize=(4, 3))\n",
    "sns.countplot(data=df, x=\"buying\")\n",
    "plt.xlabel(\"Buying\")\n",
    "plt.title(\"Car Evaluation - Buying\")\n",
    "plt.show()\n",
    "# buying subject 개수 확인\n",
    "buying_subject_count = df['buying'].nunique()\n",
    "print(\"Buying Subject Count:\", buying_subject_count)\n",
    "print()"
   ]
  },
  {
   "cell_type": "code",
   "execution_count": 5,
   "id": "9d724777-9f92-410a-ae1e-33457c836172",
   "metadata": {},
   "outputs": [
    {
     "name": "stdout",
     "output_type": "stream",
     "text": [
      "Maint label count:\n",
      "maint\n",
      "vhigh    432\n",
      "high     432\n",
      "med      432\n",
      "low      432\n",
      "Name: count, dtype: int64 \n",
      "\n"
     ]
    },
    {
     "data": {
      "image/png": "[encoded data removed]",
      "text/plain": [
       "<Figure size 400x300 with 1 Axes>"
      ]
     },
     "metadata": {},
     "output_type": "display_data"
    },
    {
     "name": "stdout",
     "output_type": "stream",
     "text": [
      "Maint Subject Count: 4\n"
     ]
    }
   ],
   "source": [
    "# maint 레이블 개수 확인 (숫자)\n",
    "print(\"Maint label count:\")\n",
    "print(df['maint'].value_counts(), \"\\n\")\n",
    "# maint 레이블 개수 확인 (그래프)\n",
    "plt.figure(figsize=(4, 3))\n",
    "sns.countplot(data=df, x=\"maint\")\n",
    "plt.xlabel(\"Maint\")\n",
    "plt.title(\"Car Evaluation - Maint\")\n",
    "plt.show()\n",
    "# maint subject 개수 확인\n",
    "maint_subject_count = df['maint'].nunique()\n",
    "print(\"Maint Subject Count:\", maint_subject_count)"
   ]
  },
  {
   "cell_type": "code",
   "execution_count": 6,
   "id": "d5c96691-fd9f-4efd-bd2a-2843f3f09249",
   "metadata": {},
   "outputs": [
    {
     "name": "stdout",
     "output_type": "stream",
     "text": [
      "doors label count:\n",
      "doors\n",
      "2        432\n",
      "3        432\n",
      "4        432\n",
      "5more    432\n",
      "Name: count, dtype: int64 \n",
      "\n"
     ]
    },
    {
     "data": {
      "image/png": "[encoded data removed]",
      "text/plain": [
       "<Figure size 400x300 with 1 Axes>"
      ]
     },
     "metadata": {},
     "output_type": "display_data"
    },
    {
     "name": "stdout",
     "output_type": "stream",
     "text": [
      "doors Subject Count: 4\n"
     ]
    }
   ],
   "source": [
    "# doors 레이블 개수 확인 (숫자)\n",
    "print(\"doors label count:\")\n",
    "print(df['doors'].value_counts(), \"\\n\")\n",
    "# doors 레이블 개수 확인 (그래프)\n",
    "plt.figure(figsize=(4, 3))\n",
    "sns.countplot(data=df, x=\"doors\")\n",
    "plt.xlabel(\"doors\")\n",
    "plt.title(\"Car Evaluation - doors\")\n",
    "plt.show()\n",
    "# doors subject 개수 확인\n",
    "doors_subject_count = df['doors'].nunique()\n",
    "print(\"doors Subject Count:\", doors_subject_count)"
   ]
  },
  {
   "cell_type": "code",
   "execution_count": 7,
   "id": "3def1f40-fd85-4fa3-a8d2-863b90637576",
   "metadata": {},
   "outputs": [
    {
     "name": "stdout",
     "output_type": "stream",
     "text": [
      "persons label count:\n",
      "persons\n",
      "2       576\n",
      "4       576\n",
      "more    576\n",
      "Name: count, dtype: int64 \n",
      "\n"
     ]
    },
    {
     "data": {
      "image/png": "[encoded data removed]",
      "text/plain": [
       "<Figure size 400x300 with 1 Axes>"
      ]
     },
     "metadata": {},
     "output_type": "display_data"
    },
    {
     "name": "stdout",
     "output_type": "stream",
     "text": [
      "persons Subject Count: 3\n"
     ]
    }
   ],
   "source": [
    "# persons 레이블 개수 확인 (숫자)\n",
    "print(\"persons label count:\")\n",
    "print(df['persons'].value_counts(), \"\\n\")\n",
    "# persons 레이블 개수 확인 (그래프)\n",
    "plt.figure(figsize=(4, 3))\n",
    "sns.countplot(data=df, x=\"persons\")\n",
    "plt.xlabel(\"persons\")\n",
    "plt.title(\"Car Evaluation - persons\")\n",
    "plt.show()\n",
    "# persons subject 개수 확인\n",
    "persons_subject_count = df['persons'].nunique()\n",
    "print(\"persons Subject Count:\", persons_subject_count)"
   ]
  },
  {
   "cell_type": "code",
   "execution_count": 8,
   "id": "640b1c21-c1d9-4d6e-8d32-abafe98b0124",
   "metadata": {},
   "outputs": [
    {
     "name": "stdout",
     "output_type": "stream",
     "text": [
      "lug_boot label count:\n",
      "lug_boot\n",
      "small    576\n",
      "med      576\n",
      "big      576\n",
      "Name: count, dtype: int64 \n",
      "\n"
     ]
    },
    {
     "data": {
      "image/png": "[encoded data removed]",
      "text/plain": [
       "<Figure size 400x300 with 1 Axes>"
      ]
     },
     "metadata": {},
     "output_type": "display_data"
    },
    {
     "name": "stdout",
     "output_type": "stream",
     "text": [
      "lug_boot Subject Count: 4\n"
     ]
    }
   ],
   "source": [
    "# lug_boot 레이블 개수 확인 (숫자)\n",
    "print(\"lug_boot label count:\")\n",
    "print(df['lug_boot'].value_counts(), \"\\n\")\n",
    "# lug_boot 레이블 개수 확인 (그래프)\n",
    "plt.figure(figsize=(4, 3))\n",
    "sns.countplot(data=df, x=\"lug_boot\")\n",
    "plt.xlabel(\"Maint\")\n",
    "plt.title(\"Car Evaluation - lug_boot\")\n",
    "plt.show()\n",
    "# lug_boot subject 개수 확인\n",
    "lug_boot_subject_count = df['maint'].nunique()\n",
    "print(\"lug_boot Subject Count:\", lug_boot_subject_count)"
   ]
  },
  {
   "cell_type": "code",
   "execution_count": 9,
   "id": "08f27c24-74ce-46ef-baff-09dd4279c7fd",
   "metadata": {},
   "outputs": [
    {
     "name": "stdout",
     "output_type": "stream",
     "text": [
      "safety label count:\n",
      "safety\n",
      "low     576\n",
      "med     576\n",
      "high    576\n",
      "Name: count, dtype: int64 \n",
      "\n"
     ]
    },
    {
     "data": {
      "image/png": "[encoded data removed]",
      "text/plain": [
       "<Figure size 400x300 with 1 Axes>"
      ]
     },
     "metadata": {},
     "output_type": "display_data"
    },
    {
     "name": "stdout",
     "output_type": "stream",
     "text": [
      "safety Subject Count: 3\n"
     ]
    }
   ],
   "source": [
    "# safety 레이블 개수 확인 (숫자)\n",
    "print(\"safety label count:\")\n",
    "print(df['safety'].value_counts(), \"\\n\")\n",
    "# safety 레이블 개수 확인 (그래프)\n",
    "plt.figure(figsize=(4, 3))\n",
    "sns.countplot(data=df, x=\"safety\")\n",
    "plt.xlabel(\"safety\")\n",
    "plt.title(\"Car Evaluation - safety\")\n",
    "plt.show()\n",
    "# safety subject 개수 확인\n",
    "safety_subject_count = df['safety'].nunique()\n",
    "print(\"safety Subject Count:\", safety_subject_count)"
   ]
  },
  {
   "cell_type": "code",
   "execution_count": 10,
   "id": "bb0e672e-da1b-4974-bc12-03206e1ff77a",
   "metadata": {},
   "outputs": [
    {
     "name": "stdout",
     "output_type": "stream",
     "text": [
      "class label count:\n",
      "class\n",
      "unacc    1210\n",
      "acc       384\n",
      "good       69\n",
      "vgood      65\n",
      "Name: count, dtype: int64 \n",
      "\n"
     ]
    },
    {
     "data": {
      "image/png": "[encoded data removed]",
      "text/plain": [
       "<Figure size 400x300 with 1 Axes>"
      ]
     },
     "metadata": {},
     "output_type": "display_data"
    },
    {
     "name": "stdout",
     "output_type": "stream",
     "text": [
      "class Subject Count: 4\n"
     ]
    }
   ],
   "source": [
    "# class 레이블 개수 확인 (숫자)\n",
    "print(\"class label count:\")\n",
    "print(df['class'].value_counts(), \"\\n\")\n",
    "# class 레이블 개수 확인 (그래프)\n",
    "plt.figure(figsize=(4, 3))\n",
    "sns.countplot(data=df, x=\"class\")\n",
    "plt.xlabel(\"class\")\n",
    "plt.title(\"Car Evaluation - class\")\n",
    "plt.show()\n",
    "# class subject 개수 확인\n",
    "class_subject_count = df['class'].nunique()\n",
    "print(\"class Subject Count:\", class_subject_count)"
   ]
  },
  {
   "cell_type": "code",
   "execution_count": 11,
   "id": "b1f9c3b4-9b33-481a-90ba-0f848f1cefbc",
   "metadata": {},
   "outputs": [],
   "source": [
    "# 라벨 인코딩 (문자형 데이터로 라벨링이 되어 있는 컬럼 데이터들 라벨링 필요.)\n",
    "# Index(['buying', 'maint', 'doors', 'persons', 'lug_boot', 'safety', 'class'], dtype='object')"
   ]
  },
  {
   "cell_type": "code",
   "execution_count": 12,
   "id": "34b0ea6f-db35-4ddb-ae1e-d93d48b5fb9e",
   "metadata": {},
   "outputs": [
    {
     "data": {
      "text/html": [
       "<div>\n",
       "<style scoped>\n",
       "    .dataframe tbody tr th:only-of-type {\n",
       "        vertical-align: middle;\n",
       "    }\n",
       "\n",
       "    .dataframe tbody tr th {\n",
       "        vertical-align: top;\n",
       "    }\n",
       "\n",
       "    .dataframe thead th {\n",
       "        text-align: right;\n",
       "    }\n",
       "</style>\n",
       "<table border=\"1\" class=\"dataframe\">\n",
       "  <thead>\n",
       "    <tr style=\"text-align: right;\">\n",
       "      <th></th>\n",
       "      <th>buying</th>\n",
       "      <th>maint</th>\n",
       "      <th>doors</th>\n",
       "      <th>persons</th>\n",
       "      <th>lug_boot</th>\n",
       "      <th>safety</th>\n",
       "      <th>class</th>\n",
       "    </tr>\n",
       "  </thead>\n",
       "  <tbody>\n",
       "    <tr>\n",
       "      <th>0</th>\n",
       "      <td>3</td>\n",
       "      <td>3</td>\n",
       "      <td>0</td>\n",
       "      <td>0</td>\n",
       "      <td>2</td>\n",
       "      <td>1</td>\n",
       "      <td>2</td>\n",
       "    </tr>\n",
       "    <tr>\n",
       "      <th>1</th>\n",
       "      <td>3</td>\n",
       "      <td>3</td>\n",
       "      <td>0</td>\n",
       "      <td>0</td>\n",
       "      <td>2</td>\n",
       "      <td>2</td>\n",
       "      <td>2</td>\n",
       "    </tr>\n",
       "    <tr>\n",
       "      <th>2</th>\n",
       "      <td>3</td>\n",
       "      <td>3</td>\n",
       "      <td>0</td>\n",
       "      <td>0</td>\n",
       "      <td>2</td>\n",
       "      <td>0</td>\n",
       "      <td>2</td>\n",
       "    </tr>\n",
       "    <tr>\n",
       "      <th>3</th>\n",
       "      <td>3</td>\n",
       "      <td>3</td>\n",
       "      <td>0</td>\n",
       "      <td>0</td>\n",
       "      <td>1</td>\n",
       "      <td>1</td>\n",
       "      <td>2</td>\n",
       "    </tr>\n",
       "    <tr>\n",
       "      <th>4</th>\n",
       "      <td>3</td>\n",
       "      <td>3</td>\n",
       "      <td>0</td>\n",
       "      <td>0</td>\n",
       "      <td>1</td>\n",
       "      <td>2</td>\n",
       "      <td>2</td>\n",
       "    </tr>\n",
       "    <tr>\n",
       "      <th>...</th>\n",
       "      <td>...</td>\n",
       "      <td>...</td>\n",
       "      <td>...</td>\n",
       "      <td>...</td>\n",
       "      <td>...</td>\n",
       "      <td>...</td>\n",
       "      <td>...</td>\n",
       "    </tr>\n",
       "    <tr>\n",
       "      <th>1723</th>\n",
       "      <td>1</td>\n",
       "      <td>1</td>\n",
       "      <td>3</td>\n",
       "      <td>2</td>\n",
       "      <td>1</td>\n",
       "      <td>2</td>\n",
       "      <td>1</td>\n",
       "    </tr>\n",
       "    <tr>\n",
       "      <th>1724</th>\n",
       "      <td>1</td>\n",
       "      <td>1</td>\n",
       "      <td>3</td>\n",
       "      <td>2</td>\n",
       "      <td>1</td>\n",
       "      <td>0</td>\n",
       "      <td>3</td>\n",
       "    </tr>\n",
       "    <tr>\n",
       "      <th>1725</th>\n",
       "      <td>1</td>\n",
       "      <td>1</td>\n",
       "      <td>3</td>\n",
       "      <td>2</td>\n",
       "      <td>0</td>\n",
       "      <td>1</td>\n",
       "      <td>2</td>\n",
       "    </tr>\n",
       "    <tr>\n",
       "      <th>1726</th>\n",
       "      <td>1</td>\n",
       "      <td>1</td>\n",
       "      <td>3</td>\n",
       "      <td>2</td>\n",
       "      <td>0</td>\n",
       "      <td>2</td>\n",
       "      <td>1</td>\n",
       "    </tr>\n",
       "    <tr>\n",
       "      <th>1727</th>\n",
       "      <td>1</td>\n",
       "      <td>1</td>\n",
       "      <td>3</td>\n",
       "      <td>2</td>\n",
       "      <td>0</td>\n",
       "      <td>0</td>\n",
       "      <td>3</td>\n",
       "    </tr>\n",
       "  </tbody>\n",
       "</table>\n",
       "<p>1728 rows × 7 columns</p>\n",
       "</div>"
      ],
      "text/plain": [
       "      buying  maint  doors  persons  lug_boot  safety  class\n",
       "0          3      3      0        0         2       1      2\n",
       "1          3      3      0        0         2       2      2\n",
       "2          3      3      0        0         2       0      2\n",
       "3          3      3      0        0         1       1      2\n",
       "4          3      3      0        0         1       2      2\n",
       "...      ...    ...    ...      ...       ...     ...    ...\n",
       "1723       1      1      3        2         1       2      1\n",
       "1724       1      1      3        2         1       0      3\n",
       "1725       1      1      3        2         0       1      2\n",
       "1726       1      1      3        2         0       2      1\n",
       "1727       1      1      3        2         0       0      3\n",
       "\n",
       "[1728 rows x 7 columns]"
      ]
     },
     "execution_count": 12,
     "metadata": {},
     "output_type": "execute_result"
    }
   ],
   "source": [
    "from sklearn.preprocessing import StandardScaler, LabelEncoder\n",
    "\n",
    "# LabelEncoder 객체 생성\n",
    "label = LabelEncoder()\n",
    "\n",
    "#LabelEncoder를 적용하여 변환\n",
    "df['buying'] = label.fit_transform(df['buying'])\n",
    "df['maint'] = label.fit_transform(df['maint'])\n",
    "df['doors'] = label.fit_transform(df['doors'])\n",
    "df['persons'] = label.fit_transform(df['persons'])\n",
    "df['lug_boot'] = label.fit_transform(df['lug_boot'])\n",
    "df['safety'] = label.fit_transform(df['safety'])\n",
    "df['class'] = label.fit_transform(df['class'])\n",
    "\n",
    "df"
   ]
  },
  {
   "cell_type": "code",
   "execution_count": 13,
   "id": "06cb334d-9466-400f-abc0-ba2ddb8f9445",
   "metadata": {},
   "outputs": [
    {
     "data": {
      "text/plain": [
       "Text(0.5, 1.0, 'Car_Evaluation')"
      ]
     },
     "execution_count": 13,
     "metadata": {},
     "output_type": "execute_result"
    },
    {
     "data": {
      "image/png": "[encoded data removed]",
      "text/plain": [
       "<Figure size 640x480 with 1 Axes>"
      ]
     },
     "metadata": {},
     "output_type": "display_data"
    }
   ],
   "source": [
    "# 라벨링 결과 확인\n",
    "# sub_id 레이블 개수 확인 (그래프)\n",
    "sns.countplot(data = df, x=\"buying\")\n",
    "plt.xlabel(\"buying\")\n",
    "plt.title(\"Car_Evaluation\")"
   ]
  },
  {
   "cell_type": "code",
   "execution_count": 14,
   "id": "fada6733-ffc7-44eb-8a04-c451927cf3cc",
   "metadata": {},
   "outputs": [
    {
     "data": {
      "text/plain": [
       "Text(0.5, 1.0, 'Car_Evaluation')"
      ]
     },
     "execution_count": 14,
     "metadata": {},
     "output_type": "execute_result"
    },
    {
     "data": {
      "image/png": "[encoded data removed]",
      "text/plain": [
       "<Figure size 640x480 with 1 Axes>"
      ]
     },
     "metadata": {},
     "output_type": "display_data"
    }
   ],
   "source": [
    "# 라벨링 결과 확인\n",
    "# maint 레이블 개수 확인 (그래프)\n",
    "sns.countplot(data = df, x=\"maint\")\n",
    "plt.xlabel(\"maint\")\n",
    "plt.title(\"Car_Evaluation\")"
   ]
  },
  {
   "cell_type": "code",
   "execution_count": 15,
   "id": "f1a59161-d3de-437f-8eb2-a845cbcbd728",
   "metadata": {},
   "outputs": [
    {
     "data": {
      "text/plain": [
       "Text(0.5, 1.0, 'Car_Evaluation')"
      ]
     },
     "execution_count": 15,
     "metadata": {},
     "output_type": "execute_result"
    },
    {
     "data": {
      "image/png": "[encoded data removed]",
      "text/plain": [
       "<Figure size 640x480 with 1 Axes>"
      ]
     },
     "metadata": {},
     "output_type": "display_data"
    }
   ],
   "source": [
    "# 라벨링 결과 확인\n",
    "# class 레이블 개수 확인 (그래프)\n",
    "sns.countplot(data = df, x=\"class\")\n",
    "plt.xlabel(\"class\")\n",
    "plt.title(\"Car_Evaluation\")"
   ]
  },
  {
   "cell_type": "code",
   "execution_count": 16,
   "id": "4404fee5-a8f5-423c-a7ab-a5bd857a5b6d",
   "metadata": {},
   "outputs": [
    {
     "data": {
      "text/plain": [
       "buying      0\n",
       "maint       0\n",
       "doors       0\n",
       "persons     0\n",
       "lug_boot    0\n",
       "safety      0\n",
       "class       0\n",
       "dtype: int64"
      ]
     },
     "execution_count": 16,
     "metadata": {},
     "output_type": "execute_result"
    }
   ],
   "source": [
    "# 결측치 확인\n",
    "df.isnull().sum()"
   ]
  },
  {
   "cell_type": "code",
   "execution_count": 17,
   "id": "5f4b1dad-36cd-466d-895f-bd87cbc6e76f",
   "metadata": {},
   "outputs": [
    {
     "data": {
      "text/plain": [
       "buying      0\n",
       "maint       0\n",
       "doors       0\n",
       "persons     0\n",
       "lug_boot    0\n",
       "safety      0\n",
       "class       0\n",
       "dtype: int64"
      ]
     },
     "execution_count": 17,
     "metadata": {},
     "output_type": "execute_result"
    }
   ],
   "source": [
    "# 결측치 제거\n",
    "df = df.dropna()\n",
    "df.isnull().sum()"
   ]
  },
  {
   "cell_type": "code",
   "execution_count": 18,
   "id": "efcf68b5-a5aa-4526-992a-cfd6abe58fee",
   "metadata": {},
   "outputs": [],
   "source": [
    "# X,y 분류"
   ]
  },
  {
   "cell_type": "code",
   "execution_count": 19,
   "id": "38325b94-114f-4df1-ab25-8c79b6d28138",
   "metadata": {},
   "outputs": [
    {
     "name": "stdout",
     "output_type": "stream",
     "text": [
      "   buying  maint  doors  persons  lug_boot  safety\n",
      "0       3      3      0        0         2       1\n",
      "1       3      3      0        0         2       2\n",
      "2       3      3      0        0         2       0\n",
      "3       3      3      0        0         1       1\n",
      "4       3      3      0        0         1       2\n",
      "class\n",
      "2    1210\n",
      "0     384\n",
      "1      69\n",
      "3      65\n",
      "Name: count, dtype: int64\n"
     ]
    }
   ],
   "source": [
    "from sklearn.model_selection import train_test_split\n",
    "\n",
    "X = df.drop('buying',axis=1)\n",
    "X = df.drop('class',axis=1)\n",
    "print(X.head())\n",
    "\n",
    "y = df['class']\n",
    "print(y.value_counts())\n",
    "\n",
    "X_train, X_test, y_train, y_test = train_test_split(X, y,test_size=0.25,random_state=0)"
   ]
  },
  {
   "cell_type": "code",
   "execution_count": 20,
   "id": "05415634-520c-403b-9ce5-196d9337675b",
   "metadata": {},
   "outputs": [],
   "source": [
    "from sklearn.linear_model import LogisticRegression\n",
    "from sklearn.svm import SVC\n",
    "from sklearn.neural_network import MLPClassifier\n",
    "from sklearn.tree import DecisionTreeClassifier\n",
    "from sklearn.metrics import accuracy_score\n",
    "from sklearn.metrics import confusion_matrix"
   ]
  },
  {
   "cell_type": "code",
   "execution_count": 21,
   "id": "aa761698-a3a3-4372-83a2-d0bdffdda77d",
   "metadata": {},
   "outputs": [],
   "source": [
    "#로지스틱"
   ]
  },
  {
   "cell_type": "code",
   "execution_count": 22,
   "id": "34110226-ee47-4077-9599-773eaf764ac6",
   "metadata": {},
   "outputs": [
    {
     "name": "stdout",
     "output_type": "stream",
     "text": [
      "\n",
      "--- Logistic Regression Classifier --- \n",
      "\n",
      "Accuracy Score :  0.6550925925925926 \n",
      "\n",
      "[[ 11   0  84   4]\n",
      " [  1   0  20   0]\n",
      " [ 24   0 269   3]\n",
      " [  4   0   9   3]] \n",
      "\n",
      "              precision    recall  f1-score   support\n",
      "\n",
      "           0       0.28      0.11      0.16        99\n",
      "           1       0.00      0.00      0.00        21\n",
      "           2       0.70      0.91      0.79       296\n",
      "           3       0.30      0.19      0.23        16\n",
      "\n",
      "    accuracy                           0.66       432\n",
      "   macro avg       0.32      0.30      0.30       432\n",
      "weighted avg       0.56      0.66      0.59       432\n",
      "\n"
     ]
    }
   ],
   "source": [
    "import warnings\n",
    "warnings.filterwarnings('ignore')\n",
    "\n",
    "clf_lr = LogisticRegression(random_state=0)\n",
    "clf_lr.fit(X_train, y_train)\n",
    "\n",
    "pred_lr = clf_lr.predict(X_test)\n",
    "\n",
    "print (\"\\n--- Logistic Regression Classifier ---\", \"\\n\")\n",
    "print (\"Accuracy Score : \", accuracy_score(y_test, pred_lr),\"\\n\")\n",
    "print (confusion_matrix(y_test, pred_lr),\"\\n\")\n",
    "\n",
    "\n",
    "#Accuracy of the predicted values\n",
    "from sklearn.metrics import classification_report,confusion_matrix\n",
    "print(classification_report(y_test,pred_lr))"
   ]
  },
  {
   "cell_type": "code",
   "execution_count": 23,
   "id": "99db1e4e-02e2-47d6-ade7-3c5d6b7fe524",
   "metadata": {},
   "outputs": [],
   "source": [
    "#decision tree"
   ]
  },
  {
   "cell_type": "code",
   "execution_count": 24,
   "id": "7389a3c6-7da1-411c-8bb1-7102e919d3b6",
   "metadata": {},
   "outputs": [
    {
     "name": "stdout",
     "output_type": "stream",
     "text": [
      "\n",
      "--- Decision Tree Classifier --- \n",
      "\n",
      "Accuracy Score :  0.9768518518518519 \n",
      "\n",
      "[[ 92   4   3   0]\n",
      " [  0  21   0   0]\n",
      " [  2   0 294   0]\n",
      " [  1   0   0  15]] \n",
      "\n",
      "              precision    recall  f1-score   support\n",
      "\n",
      "           0       0.97      0.93      0.95        99\n",
      "           1       0.84      1.00      0.91        21\n",
      "           2       0.99      0.99      0.99       296\n",
      "           3       1.00      0.94      0.97        16\n",
      "\n",
      "    accuracy                           0.98       432\n",
      "   macro avg       0.95      0.97      0.96       432\n",
      "weighted avg       0.98      0.98      0.98       432\n",
      "\n"
     ]
    }
   ],
   "source": [
    "import warnings\n",
    "warnings.filterwarnings('ignore')\n",
    "\n",
    "clf_dt = DecisionTreeClassifier(random_state=0)\n",
    "clf_dt.fit(X_train, y_train)\n",
    "\n",
    "pred_dt = clf_dt.predict(X_test)\n",
    "\n",
    "print (\"\\n--- Decision Tree Classifier ---\", \"\\n\")\n",
    "print (\"Accuracy Score : \", accuracy_score(y_test, pred_dt),\"\\n\")\n",
    "print (confusion_matrix(y_test, pred_dt),\"\\n\")\n",
    "\n",
    "#Accuracy of the predicted values\n",
    "from sklearn.metrics import classification_report,confusion_matrix\n",
    "print(classification_report(y_test,pred_dt))"
   ]
  },
  {
   "cell_type": "code",
   "execution_count": 25,
   "id": "69c22648-1977-4a8f-af61-c744d6505af2",
   "metadata": {},
   "outputs": [],
   "source": [
    "#random forest"
   ]
  },
  {
   "cell_type": "code",
   "execution_count": 26,
   "id": "4b709495-db97-4d15-8093-540c9e1e2c2d",
   "metadata": {},
   "outputs": [
    {
     "name": "stdout",
     "output_type": "stream",
     "text": [
      "\n",
      "--- Radom Forest --- \n",
      "\n",
      "Accuracy Score :  0.9745370370370371 \n",
      "\n",
      "[[ 95   3   1   0]\n",
      " [  2  19   0   0]\n",
      " [  3   0 293   0]\n",
      " [  2   0   0  14]] \n",
      "\n",
      "              precision    recall  f1-score   support\n",
      "\n",
      "           0       0.93      0.96      0.95        99\n",
      "           1       0.86      0.90      0.88        21\n",
      "           2       1.00      0.99      0.99       296\n",
      "           3       1.00      0.88      0.93        16\n",
      "\n",
      "    accuracy                           0.97       432\n",
      "   macro avg       0.95      0.93      0.94       432\n",
      "weighted avg       0.98      0.97      0.97       432\n",
      "\n"
     ]
    }
   ],
   "source": [
    "from sklearn.ensemble import RandomForestClassifier\n",
    "from sklearn.metrics import accuracy_score\n",
    "import pandas as pd\n",
    "import warnings\n",
    "warnings.filterwarnings('ignore')\n",
    "\n",
    "print (\"\\n--- Radom Forest ---\", \"\\n\")\n",
    "rf_clf = RandomForestClassifier(random_state=0)\n",
    "rf_clf.fit(X_train, y_train)\n",
    "pred_dt = rf_clf.predict(X_test)\n",
    "print (\"Accuracy Score : \", accuracy_score(y_test, pred_dt),\"\\n\")\n",
    "print (confusion_matrix(y_test, pred_dt),\"\\n\")\n",
    "\n",
    "#Accuracy of the predicted values\n",
    "from sklearn.metrics import classification_report,confusion_matrix\n",
    "print(classification_report(y_test,pred_dt))"
   ]
  },
  {
   "cell_type": "code",
   "execution_count": 27,
   "id": "8c4297ea-8079-4de2-b2c9-7da94eab1d32",
   "metadata": {},
   "outputs": [],
   "source": [
    "# SVM Classifier"
   ]
  },
  {
   "cell_type": "code",
   "execution_count": 28,
   "id": "e77eda4a-963d-4c97-b84f-c446a1f00ede",
   "metadata": {},
   "outputs": [
    {
     "name": "stdout",
     "output_type": "stream",
     "text": [
      "\n",
      "--- SVM Classifier --- \n",
      "\n",
      "Accuracy Score :  0.9212962962962963 \n",
      "\n",
      "[[ 82   1  15   1]\n",
      " [  7  11   0   3]\n",
      " [  2   0 294   0]\n",
      " [  5   0   0  11]] \n",
      "\n",
      "              precision    recall  f1-score   support\n",
      "\n",
      "           0       0.85      0.83      0.84        99\n",
      "           1       0.92      0.52      0.67        21\n",
      "           2       0.95      0.99      0.97       296\n",
      "           3       0.73      0.69      0.71        16\n",
      "\n",
      "    accuracy                           0.92       432\n",
      "   macro avg       0.86      0.76      0.80       432\n",
      "weighted avg       0.92      0.92      0.92       432\n",
      "\n"
     ]
    }
   ],
   "source": [
    "from sklearn.svm import SVC\n",
    "from sklearn.metrics import accuracy_score\n",
    "import pandas as pd\n",
    "import warnings\n",
    "warnings.filterwarnings('ignore')\n",
    "\n",
    "print(\"\\n--- SVM Classifier ---\", \"\\n\")\n",
    "clf_svm = SVC(random_state=0)\n",
    "clf_svm.fit(X_train, y_train)\n",
    "pred_dt = clf_svm.predict(X_test)\n",
    "print (\"Accuracy Score : \", accuracy_score(y_test, pred_dt),\"\\n\")\n",
    "print (confusion_matrix(y_test, pred_dt),\"\\n\")\n",
    "\n",
    "#Accuracy of the predicted values\n",
    "from sklearn.metrics import classification_report,confusion_matrix\n",
    "print(classification_report(y_test,pred_dt))"
   ]
  },
  {
   "cell_type": "code",
   "execution_count": 29,
   "id": "dd645610-cbff-4a74-87ff-4947f6659c3a",
   "metadata": {},
   "outputs": [],
   "source": [
    "# 정규화 standard scaler\n",
    "\n",
    "# # StandardScaler 객체 생성\n",
    "# scaler = StandardScaler()\n",
    "\n",
    "# # 특성 데이터를 표준화\n",
    "# std_scaled_data = scaler.fit_transform(df)\n",
    "\n",
    "# print(std_scaled_data)"
   ]
  },
  {
   "cell_type": "code",
   "execution_count": null,
   "id": "d1868212-a0c8-4727-8c40-9bda2a702355",
   "metadata": {},
   "outputs": [],
   "source": []
  },
  {
   "cell_type": "code",
   "execution_count": null,
   "id": "7fbb5189-cd33-4e25-a32c-efaafeb27010",
   "metadata": {},
   "outputs": [],
   "source": []
  },
  {
   "cell_type": "code",
   "execution_count": null,
   "id": "ee1394f0-39d4-4bba-ab04-36235829831b",
   "metadata": {},
   "outputs": [],
   "source": []
  },
  {
   "cell_type": "code",
   "execution_count": null,
   "id": "43858993-f277-48d6-a3cb-aee4f23627aa",
   "metadata": {},
   "outputs": [],
   "source": []
  },
  {
   "cell_type": "code",
   "execution_count": null,
   "id": "d9491657-c954-4c8a-8e81-24dff0d302e4",
   "metadata": {},
   "outputs": [],
   "source": []
  },
  {
   "cell_type": "code",
   "execution_count": null,
   "id": "7c552560-5421-41af-9b88-9425e5630464",
   "metadata": {},
   "outputs": [],
   "source": []
  }
 ],
 "metadata": {
  "kernelspec": {
   "display_name": "Python 3 (ipykernel)",
   "language": "python",
   "name": "python3"
  },
  "language_info": {
   "codemirror_mode": {
    "name": "ipython",
    "version": 3
   },
   "file_extension": ".py",
   "mimetype": "text/x-python",
   "name": "python",
   "nbconvert_exporter": "python",
   "pygments_lexer": "ipython3",
   "version": "3.11.8"
  }
 },
 "nbformat": 4,
 "nbformat_minor": 5
}
